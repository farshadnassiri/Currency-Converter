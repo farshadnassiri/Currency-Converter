{
 "cells": [
  {
   "cell_type": "code",
   "execution_count": 13,
   "id": "d2241306",
   "metadata": {},
   "outputs": [
    {
     "name": "stdout",
     "output_type": "stream",
     "text": [
      "100.0 USD is 173.87 NZD\n"
     ]
    }
   ],
   "source": [
    "import requests\n",
    "from cachetools import cached,TTLCache\n",
    "\n",
    "cache=TTLCache(maxsize=200,ttl=300)\n",
    "\n",
    "@cached(cache)\n",
    "def get_exchange_rate(base_currency,target_currency):\n",
    "    url=f\"https://v6.exchangerate-api.com/v6/1642b8df0034c2e4dad644c2/latest/{base_currency}\"\n",
    "    response=requests.get(url)\n",
    "    if response.status_code != 200:\n",
    "        print(\"Please try again!\")\n",
    "        return None\n",
    "    return  response.json()[\"conversion_rates\"][target_currency]  \n",
    "\n",
    "base_currency=input(\"Please Enter Base Currency:\")    \n",
    "target_currency=input(\"Please Enter target Currency:\") \n",
    "amount=float(input(\"Please Enter Amount:\"))\n",
    "exchange_rate=get_exchange_rate(base_currency,target_currency)\n",
    "converted_amount=amount*exchange_rate\n",
    "print(f\"{amount} {base_currency} is {converted_amount} {target_currency}\")  \n",
    "\n"
   ]
  },
  {
   "cell_type": "code",
   "execution_count": 24,
   "id": "0219d768",
   "metadata": {},
   "outputs": [
    {
     "name": "stdout",
     "output_type": "stream",
     "text": [
      "100 USD is 173.87 NZD\n"
     ]
    }
   ],
   "source": [
    "import requests\n",
    "from cachetools import cached,TTLCache\n",
    "\n",
    "cache=TTLCache(maxsize=200,ttl=4)\n",
    "\n",
    "@cached(cache)\n",
    "def get_exchange_rate(base_currency,target_currency):\n",
    "    url=f\"https://v6.exchangerate-api.com/v6/1642b8df0034c2e4dad644c2/latest/{base_currency}\"\n",
    "    response=requests.get(url)\n",
    "    if response.status_code != 200:\n",
    "        print(\"Please try again!\")\n",
    "        return None\n",
    "    return  response.json()[\"conversion_rates\"][target_currency]  \n",
    "\n",
    "base_currency=\"USD\"    \n",
    "target_currency=\"NZD\" \n",
    "amount=100\n",
    "exchange_rate=get_exchange_rate(base_currency,target_currency)\n",
    "converted_amount=amount*exchange_rate\n",
    "print(f\"{amount} {base_currency} is {converted_amount} {target_currency}\")  \n",
    "\n"
   ]
  },
  {
   "cell_type": "code",
   "execution_count": null,
   "id": "64d75035",
   "metadata": {},
   "outputs": [],
   "source": []
  }
 ],
 "metadata": {
  "kernelspec": {
   "display_name": "base",
   "language": "python",
   "name": "python3"
  },
  "language_info": {
   "codemirror_mode": {
    "name": "ipython",
    "version": 3
   },
   "file_extension": ".py",
   "mimetype": "text/x-python",
   "name": "python",
   "nbconvert_exporter": "python",
   "pygments_lexer": "ipython3",
   "version": "3.13.5"
  }
 },
 "nbformat": 4,
 "nbformat_minor": 5
}
