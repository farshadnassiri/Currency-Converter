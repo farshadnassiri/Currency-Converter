{
 "cells": [
  {
   "cell_type": "code",
   "execution_count": 4,
   "id": "c9886db0",
   "metadata": {},
   "outputs": [
    {
     "name": "stdout",
     "output_type": "stream",
     "text": [
      "env: PASSWORD=sssssss\n"
     ]
    }
   ],
   "source": [
    "%env PASSWORD=sssssss"
   ]
  },
  {
   "cell_type": "code",
   "execution_count": 6,
   "id": "76ad2f92",
   "metadata": {},
   "outputs": [
    {
     "data": {
      "text/plain": [
       "'sssssss'"
      ]
     },
     "execution_count": 6,
     "metadata": {},
     "output_type": "execute_result"
    }
   ],
   "source": [
    "%env PASSWORD"
   ]
  }
 ],
 "metadata": {
  "kernelspec": {
   "display_name": "base",
   "language": "python",
   "name": "python3"
  },
  "language_info": {
   "codemirror_mode": {
    "name": "ipython",
    "version": 3
   },
   "file_extension": ".py",
   "mimetype": "text/x-python",
   "name": "python",
   "nbconvert_exporter": "python",
   "pygments_lexer": "ipython3",
   "version": "3.13.5"
  }
 },
 "nbformat": 4,
 "nbformat_minor": 5
}
