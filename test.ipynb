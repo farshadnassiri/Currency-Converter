{
 "cells": [
  {
   "cell_type": "code",
   "execution_count": 21,
   "id": "c9886db0",
   "metadata": {},
   "outputs": [
    {
     "name": "stdout",
     "output_type": "stream",
     "text": [
      "env: PASSWORD=sssssss\n"
     ]
    }
   ],
   "source": [
    "%env PASSWORD=sssssss"
   ]
  },
  {
   "cell_type": "code",
   "execution_count": 22,
   "id": "76ad2f92",
   "metadata": {},
   "outputs": [
    {
     "name": "stdout",
     "output_type": "stream",
     "text": [
      "env: GIPHY=NBXp7Bmp5fDclVvCXs5P5jnK9tGgpxWO\n"
     ]
    }
   ],
   "source": [
    "%env GIPHY=NBXp7Bmp5fDclVvCXs5P5jnK9tGgpxWO"
   ]
  },
  {
   "cell_type": "code",
   "execution_count": 23,
   "id": "f1f385cb",
   "metadata": {},
   "outputs": [],
   "source": [
    "import os\n",
    "import requests"
   ]
  },
  {
   "cell_type": "code",
   "execution_count": 31,
   "id": "5a3cf680",
   "metadata": {},
   "outputs": [],
   "source": [
    "url=\"https://api.giphy.com/v1/gifs/random\""
   ]
  },
  {
   "cell_type": "code",
   "execution_count": 32,
   "id": "8957df8a",
   "metadata": {},
   "outputs": [],
   "source": [
    "params={\"api_key\":os.environ.get(\"GIPHY\")}\n"
   ]
  },
  {
   "cell_type": "code",
   "execution_count": 38,
   "id": "49d05223",
   "metadata": {},
   "outputs": [],
   "source": [
    "response=requests.get(url,params=params)"
   ]
  },
  {
   "cell_type": "code",
   "execution_count": 43,
   "id": "0a7d5031",
   "metadata": {},
   "outputs": [
    {
     "data": {
      "text/plain": [
       "{'data': {'type': 'gif',\n",
       "  'id': 'gL9WUKeTC0eWLt3FXK',\n",
       "  'url': 'https://giphy.com/gifs/EMUAthletics-gL9WUKeTC0eWLt3FXK',\n",
       "  'slug': 'EMUAthletics-gL9WUKeTC0eWLt3FXK',\n",
       "  'bitly_gif_url': 'https://gph.is/g/Z2mdNNb',\n",
       "  'bitly_url': 'https://gph.is/g/Z2mdNNb',\n",
       "  'embed_url': 'https://giphy.com/embed/gL9WUKeTC0eWLt3FXK',\n",
       "  'username': 'EMUAthletics',\n",
       "  'source': '',\n",
       "  'title': 'Emueagles Emugym GIF by EMU Athletics',\n",
       "  'rating': 'g',\n",
       "  'content_url': '',\n",
       "  'source_tld': '',\n",
       "  'source_post_url': '',\n",
       "  'source_caption': '',\n",
       "  'is_sticker': 0,\n",
       "  'import_datetime': '2020-01-31 16:35:01',\n",
       "  'trending_datetime': '0000-00-00 00:00:00',\n",
       "  'images': {'original': {'height': '270',\n",
       "    'width': '480',\n",
       "    'size': '1308988',\n",
       "    'url': 'https://media4.giphy.com/media/v1.Y2lkPTA0MzMzMzg3OHM4bnd5cmxzZzhtYm96emdqa2xkMGw4MDF1cTJwZXVqeWsxbmI4cyZlcD12MV9naWZzX3JhbmRvbSZjdD1n/gL9WUKeTC0eWLt3FXK/giphy.gif',\n",
       "    'mp4_size': '399408',\n",
       "    'mp4': 'https://media4.giphy.com/media/v1.Y2lkPTA0MzMzMzg3OHM4bnd5cmxzZzhtYm96emdqa2xkMGw4MDF1cTJwZXVqeWsxbmI4cyZlcD12MV9naWZzX3JhbmRvbSZjdD1n/gL9WUKeTC0eWLt3FXK/giphy.mp4',\n",
       "    'webp_size': '275648',\n",
       "    'webp': 'https://media4.giphy.com/media/v1.Y2lkPTA0MzMzMzg3OHM4bnd5cmxzZzhtYm96emdqa2xkMGw4MDF1cTJwZXVqeWsxbmI4cyZlcD12MV9naWZzX3JhbmRvbSZjdD1n/gL9WUKeTC0eWLt3FXK/giphy.webp',\n",
       "    'frames': '28',\n",
       "    'hash': '85b0ede0b52304118f4e7c1753c07dfb'},\n",
       "   'downsized': {'height': '270',\n",
       "    'width': '480',\n",
       "    'size': '1308988',\n",
       "    'url': 'https://media4.giphy.com/media/v1.Y2lkPTA0MzMzMzg3OHM4bnd5cmxzZzhtYm96emdqa2xkMGw4MDF1cTJwZXVqeWsxbmI4cyZlcD12MV9naWZzX3JhbmRvbSZjdD1n/gL9WUKeTC0eWLt3FXK/giphy.gif'},\n",
       "   'downsized_large': {'height': '270',\n",
       "    'width': '480',\n",
       "    'size': '1308988',\n",
       "    'url': 'https://media4.giphy.com/media/v1.Y2lkPTA0MzMzMzg3OHM4bnd5cmxzZzhtYm96emdqa2xkMGw4MDF1cTJwZXVqeWsxbmI4cyZlcD12MV9naWZzX3JhbmRvbSZjdD1n/gL9WUKeTC0eWLt3FXK/giphy.gif'},\n",
       "   'downsized_medium': {'height': '270',\n",
       "    'width': '480',\n",
       "    'size': '1308988',\n",
       "    'url': 'https://media4.giphy.com/media/v1.Y2lkPTA0MzMzMzg3OHM4bnd5cmxzZzhtYm96emdqa2xkMGw4MDF1cTJwZXVqeWsxbmI4cyZlcD12MV9naWZzX3JhbmRvbSZjdD1n/gL9WUKeTC0eWLt3FXK/giphy.gif'},\n",
       "   'downsized_small': {'height': '190',\n",
       "    'width': '337',\n",
       "    'mp4_size': '132549',\n",
       "    'mp4': 'https://media4.giphy.com/media/v1.Y2lkPTA0MzMzMzg3OHM4bnd5cmxzZzhtYm96emdqa2xkMGw4MDF1cTJwZXVqeWsxbmI4cyZlcD12MV9naWZzX3JhbmRvbSZjdD1n/gL9WUKeTC0eWLt3FXK/giphy-downsized-small.mp4'},\n",
       "   'downsized_still': {'height': '270',\n",
       "    'width': '480',\n",
       "    'size': '1308988',\n",
       "    'url': 'https://media4.giphy.com/media/v1.Y2lkPTA0MzMzMzg3OHM4bnd5cmxzZzhtYm96emdqa2xkMGw4MDF1cTJwZXVqeWsxbmI4cyZlcD12MV9naWZzX3JhbmRvbSZjdD1n/gL9WUKeTC0eWLt3FXK/giphy_s.gif'},\n",
       "   'fixed_height': {'height': '200',\n",
       "    'width': '356',\n",
       "    'size': '601960',\n",
       "    'url': 'https://media4.giphy.com/media/v1.Y2lkPTA0MzMzMzg3OHM4bnd5cmxzZzhtYm96emdqa2xkMGw4MDF1cTJwZXVqeWsxbmI4cyZlcD12MV9naWZzX3JhbmRvbSZjdD1n/gL9WUKeTC0eWLt3FXK/200.gif',\n",
       "    'mp4_size': '240777',\n",
       "    'mp4': 'https://media4.giphy.com/media/v1.Y2lkPTA0MzMzMzg3OHM4bnd5cmxzZzhtYm96emdqa2xkMGw4MDF1cTJwZXVqeWsxbmI4cyZlcD12MV9naWZzX3JhbmRvbSZjdD1n/gL9WUKeTC0eWLt3FXK/200.mp4',\n",
       "    'webp_size': '198866',\n",
       "    'webp': 'https://media4.giphy.com/media/v1.Y2lkPTA0MzMzMzg3OHM4bnd5cmxzZzhtYm96emdqa2xkMGw4MDF1cTJwZXVqeWsxbmI4cyZlcD12MV9naWZzX3JhbmRvbSZjdD1n/gL9WUKeTC0eWLt3FXK/200.webp'},\n",
       "   'fixed_height_downsampled': {'height': '200',\n",
       "    'width': '356',\n",
       "    'size': '149194',\n",
       "    'url': 'https://media4.giphy.com/media/v1.Y2lkPTA0MzMzMzg3OHM4bnd5cmxzZzhtYm96emdqa2xkMGw4MDF1cTJwZXVqeWsxbmI4cyZlcD12MV9naWZzX3JhbmRvbSZjdD1n/gL9WUKeTC0eWLt3FXK/200_d.gif',\n",
       "    'webp_size': '95674',\n",
       "    'webp': 'https://media4.giphy.com/media/v1.Y2lkPTA0MzMzMzg3OHM4bnd5cmxzZzhtYm96emdqa2xkMGw4MDF1cTJwZXVqeWsxbmI4cyZlcD12MV9naWZzX3JhbmRvbSZjdD1n/gL9WUKeTC0eWLt3FXK/200_d.webp'},\n",
       "   'fixed_height_small': {'height': '100',\n",
       "    'width': '178',\n",
       "    'size': '197303',\n",
       "    'url': 'https://media4.giphy.com/media/v1.Y2lkPTA0MzMzMzg3OHM4bnd5cmxzZzhtYm96emdqa2xkMGw4MDF1cTJwZXVqeWsxbmI4cyZlcD12MV9naWZzX3JhbmRvbSZjdD1n/gL9WUKeTC0eWLt3FXK/100.gif',\n",
       "    'mp4_size': '90203',\n",
       "    'mp4': 'https://media4.giphy.com/media/v1.Y2lkPTA0MzMzMzg3OHM4bnd5cmxzZzhtYm96emdqa2xkMGw4MDF1cTJwZXVqeWsxbmI4cyZlcD12MV9naWZzX3JhbmRvbSZjdD1n/gL9WUKeTC0eWLt3FXK/100.mp4',\n",
       "    'webp_size': '84158',\n",
       "    'webp': 'https://media4.giphy.com/media/v1.Y2lkPTA0MzMzMzg3OHM4bnd5cmxzZzhtYm96emdqa2xkMGw4MDF1cTJwZXVqeWsxbmI4cyZlcD12MV9naWZzX3JhbmRvbSZjdD1n/gL9WUKeTC0eWLt3FXK/100.webp'},\n",
       "   'fixed_height_small_still': {'height': '100',\n",
       "    'width': '178',\n",
       "    'size': '8917',\n",
       "    'url': 'https://media4.giphy.com/media/v1.Y2lkPTA0MzMzMzg3OHM4bnd5cmxzZzhtYm96emdqa2xkMGw4MDF1cTJwZXVqeWsxbmI4cyZlcD12MV9naWZzX3JhbmRvbSZjdD1n/gL9WUKeTC0eWLt3FXK/100_s.gif'},\n",
       "   'fixed_height_still': {'height': '200',\n",
       "    'width': '356',\n",
       "    'size': '24640',\n",
       "    'url': 'https://media4.giphy.com/media/v1.Y2lkPTA0MzMzMzg3OHM4bnd5cmxzZzhtYm96emdqa2xkMGw4MDF1cTJwZXVqeWsxbmI4cyZlcD12MV9naWZzX3JhbmRvbSZjdD1n/gL9WUKeTC0eWLt3FXK/200_s.gif'},\n",
       "   'fixed_width': {'height': '113',\n",
       "    'width': '200',\n",
       "    'size': '259618',\n",
       "    'url': 'https://media4.giphy.com/media/v1.Y2lkPTA0MzMzMzg3OHM4bnd5cmxzZzhtYm96emdqa2xkMGw4MDF1cTJwZXVqeWsxbmI4cyZlcD12MV9naWZzX3JhbmRvbSZjdD1n/gL9WUKeTC0eWLt3FXK/200w.gif',\n",
       "    'mp4_size': '98986',\n",
       "    'mp4': 'https://media4.giphy.com/media/v1.Y2lkPTA0MzMzMzg3OHM4bnd5cmxzZzhtYm96emdqa2xkMGw4MDF1cTJwZXVqeWsxbmI4cyZlcD12MV9naWZzX3JhbmRvbSZjdD1n/gL9WUKeTC0eWLt3FXK/200w.mp4',\n",
       "    'webp_size': '94412',\n",
       "    'webp': 'https://media4.giphy.com/media/v1.Y2lkPTA0MzMzMzg3OHM4bnd5cmxzZzhtYm96emdqa2xkMGw4MDF1cTJwZXVqeWsxbmI4cyZlcD12MV9naWZzX3JhbmRvbSZjdD1n/gL9WUKeTC0eWLt3FXK/200w.webp'},\n",
       "   'fixed_width_downsampled': {'height': '113',\n",
       "    'width': '200',\n",
       "    'size': '60938',\n",
       "    'url': 'https://media4.giphy.com/media/v1.Y2lkPTA0MzMzMzg3OHM4bnd5cmxzZzhtYm96emdqa2xkMGw4MDF1cTJwZXVqeWsxbmI4cyZlcD12MV9naWZzX3JhbmRvbSZjdD1n/gL9WUKeTC0eWLt3FXK/200w_d.gif',\n",
       "    'webp_size': '35456',\n",
       "    'webp': 'https://media4.giphy.com/media/v1.Y2lkPTA0MzMzMzg3OHM4bnd5cmxzZzhtYm96emdqa2xkMGw4MDF1cTJwZXVqeWsxbmI4cyZlcD12MV9naWZzX3JhbmRvbSZjdD1n/gL9WUKeTC0eWLt3FXK/200w_d.webp'},\n",
       "   'fixed_width_small': {'height': '57',\n",
       "    'width': '100',\n",
       "    'size': '78898',\n",
       "    'url': 'https://media4.giphy.com/media/v1.Y2lkPTA0MzMzMzg3OHM4bnd5cmxzZzhtYm96emdqa2xkMGw4MDF1cTJwZXVqeWsxbmI4cyZlcD12MV9naWZzX3JhbmRvbSZjdD1n/gL9WUKeTC0eWLt3FXK/100w.gif',\n",
       "    'mp4_size': '40703',\n",
       "    'mp4': 'https://media4.giphy.com/media/v1.Y2lkPTA0MzMzMzg3OHM4bnd5cmxzZzhtYm96emdqa2xkMGw4MDF1cTJwZXVqeWsxbmI4cyZlcD12MV9naWZzX3JhbmRvbSZjdD1n/gL9WUKeTC0eWLt3FXK/100w.mp4',\n",
       "    'webp_size': '42688',\n",
       "    'webp': 'https://media4.giphy.com/media/v1.Y2lkPTA0MzMzMzg3OHM4bnd5cmxzZzhtYm96emdqa2xkMGw4MDF1cTJwZXVqeWsxbmI4cyZlcD12MV9naWZzX3JhbmRvbSZjdD1n/gL9WUKeTC0eWLt3FXK/100w.webp'},\n",
       "   'fixed_width_small_still': {'height': '57',\n",
       "    'width': '100',\n",
       "    'size': '3765',\n",
       "    'url': 'https://media4.giphy.com/media/v1.Y2lkPTA0MzMzMzg3OHM4bnd5cmxzZzhtYm96emdqa2xkMGw4MDF1cTJwZXVqeWsxbmI4cyZlcD12MV9naWZzX3JhbmRvbSZjdD1n/gL9WUKeTC0eWLt3FXK/100w_s.gif'},\n",
       "   'fixed_width_still': {'height': '113',\n",
       "    'width': '200',\n",
       "    'size': '11778',\n",
       "    'url': 'https://media4.giphy.com/media/v1.Y2lkPTA0MzMzMzg3OHM4bnd5cmxzZzhtYm96emdqa2xkMGw4MDF1cTJwZXVqeWsxbmI4cyZlcD12MV9naWZzX3JhbmRvbSZjdD1n/gL9WUKeTC0eWLt3FXK/200w_s.gif'},\n",
       "   'looping': {'mp4_size': '2950169',\n",
       "    'mp4': 'https://media4.giphy.com/media/v1.Y2lkPTA0MzMzMzg3OHM4bnd5cmxzZzhtYm96emdqa2xkMGw4MDF1cTJwZXVqeWsxbmI4cyZlcD12MV9naWZzX3JhbmRvbSZjdD1n/gL9WUKeTC0eWLt3FXK/giphy-loop.mp4'},\n",
       "   'original_still': {'height': '270',\n",
       "    'width': '480',\n",
       "    'size': '52538',\n",
       "    'url': 'https://media4.giphy.com/media/v1.Y2lkPTA0MzMzMzg3OHM4bnd5cmxzZzhtYm96emdqa2xkMGw4MDF1cTJwZXVqeWsxbmI4cyZlcD12MV9naWZzX3JhbmRvbSZjdD1n/gL9WUKeTC0eWLt3FXK/giphy_s.gif'},\n",
       "   'original_mp4': {'height': '270',\n",
       "    'width': '480',\n",
       "    'mp4_size': '399408',\n",
       "    'mp4': 'https://media4.giphy.com/media/v1.Y2lkPTA0MzMzMzg3OHM4bnd5cmxzZzhtYm96emdqa2xkMGw4MDF1cTJwZXVqeWsxbmI4cyZlcD12MV9naWZzX3JhbmRvbSZjdD1n/gL9WUKeTC0eWLt3FXK/giphy.mp4'},\n",
       "   'preview': {'height': '108',\n",
       "    'width': '192',\n",
       "    'mp4_size': '44384',\n",
       "    'mp4': 'https://media4.giphy.com/media/v1.Y2lkPTA0MzMzMzg3OHM4bnd5cmxzZzhtYm96emdqa2xkMGw4MDF1cTJwZXVqeWsxbmI4cyZlcD12MV9naWZzX3JhbmRvbSZjdD1n/gL9WUKeTC0eWLt3FXK/giphy-preview.mp4'},\n",
       "   'preview_gif': {'height': '58',\n",
       "    'width': '103',\n",
       "    'size': '49627',\n",
       "    'url': 'https://media4.giphy.com/media/v1.Y2lkPTA0MzMzMzg3OHM4bnd5cmxzZzhtYm96emdqa2xkMGw4MDF1cTJwZXVqeWsxbmI4cyZlcD12MV9naWZzX3JhbmRvbSZjdD1n/gL9WUKeTC0eWLt3FXK/giphy-preview.gif'},\n",
       "   'preview_webp': {'height': '120',\n",
       "    'width': '214',\n",
       "    'size': '41452',\n",
       "    'url': 'https://media4.giphy.com/media/v1.Y2lkPTA0MzMzMzg3OHM4bnd5cmxzZzhtYm96emdqa2xkMGw4MDF1cTJwZXVqeWsxbmI4cyZlcD12MV9naWZzX3JhbmRvbSZjdD1n/gL9WUKeTC0eWLt3FXK/giphy-preview.webp'},\n",
       "   'hd': {'height': '1080',\n",
       "    'width': '1920',\n",
       "    'mp4_size': '6125657',\n",
       "    'mp4': 'https://media4.giphy.com/media/v1.Y2lkPTA0MzMzMzg3OHM4bnd5cmxzZzhtYm96emdqa2xkMGw4MDF1cTJwZXVqeWsxbmI4cyZlcD12MV9naWZzX3JhbmRvbSZjdD1n/gL9WUKeTC0eWLt3FXK/giphy-hd.mp4'},\n",
       "   '480w_still': {'height': '270',\n",
       "    'width': '480',\n",
       "    'size': '1308988',\n",
       "    'url': 'https://media4.giphy.com/media/v1.Y2lkPTA0MzMzMzg3OHM4bnd5cmxzZzhtYm96emdqa2xkMGw4MDF1cTJwZXVqeWsxbmI4cyZlcD12MV9naWZzX3JhbmRvbSZjdD1n/gL9WUKeTC0eWLt3FXK/480w_s.jpg'}},\n",
       "  'user': {'avatar_url': 'https://media3.giphy.com/avatars/EMUAthletics/NmCiIxDd86Qv.jpg',\n",
       "   'banner_image': 'https://media3.giphy.com/headers/EMUAthletics/IwT6x60VHUG4.jpg',\n",
       "   'banner_url': 'https://media3.giphy.com/headers/EMUAthletics/IwT6x60VHUG4.jpg',\n",
       "   'profile_url': 'https://giphy.com/EMUAthletics/',\n",
       "   'username': 'EMUAthletics',\n",
       "   'display_name': 'EMU Athletics',\n",
       "   'description': 'Official account of Eastern Michigan University Athletics\\r\\n\\r\\n#EMUEagles',\n",
       "   'instagram_url': '',\n",
       "   'website_url': '',\n",
       "   'is_verified': False},\n",
       "  'analytics_response_payload': 'e=ZXZlbnRfdHlwZT1HSUZfU0VBUkNIJmNpZD0wNDMzMzM4NzhzOG53eXJsc2c4bWJvenpnamtsZDBsODAxdXEycGV1anlrMW5iOHMmZ2lmX2lkPWdMOVdVS2VUQzBlV0x0M0ZYSyZjdD1n',\n",
       "  'analytics': {'onload': {'url': 'https://giphy-analytics.giphy.com/v2/pingback_simple?analytics_response_payload=e%3DZXZlbnRfdHlwZT1HSUZfU0VBUkNIJmNpZD0wNDMzMzM4NzhzOG53eXJsc2c4bWJvenpnamtsZDBsODAxdXEycGV1anlrMW5iOHMmZ2lmX2lkPWdMOVdVS2VUQzBlV0x0M0ZYSyZjdD1n&action_type=SEEN'},\n",
       "   'onclick': {'url': 'https://giphy-analytics.giphy.com/v2/pingback_simple?analytics_response_payload=e%3DZXZlbnRfdHlwZT1HSUZfU0VBUkNIJmNpZD0wNDMzMzM4NzhzOG53eXJsc2c4bWJvenpnamtsZDBsODAxdXEycGV1anlrMW5iOHMmZ2lmX2lkPWdMOVdVS2VUQzBlV0x0M0ZYSyZjdD1n&action_type=CLICK'},\n",
       "   'onsent': {'url': 'https://giphy-analytics.giphy.com/v2/pingback_simple?analytics_response_payload=e%3DZXZlbnRfdHlwZT1HSUZfU0VBUkNIJmNpZD0wNDMzMzM4NzhzOG53eXJsc2c4bWJvenpnamtsZDBsODAxdXEycGV1anlrMW5iOHMmZ2lmX2lkPWdMOVdVS2VUQzBlV0x0M0ZYSyZjdD1n&action_type=SENT'}},\n",
       "  'alt_text': '',\n",
       "  'is_low_contrast': False},\n",
       " 'meta': {'status': 200,\n",
       "  'msg': 'OK',\n",
       "  'response_id': '8s8nwyrlsg8mbozzgjkld0l801uq2peujyk1nb8s'}}"
      ]
     },
     "execution_count": 43,
     "metadata": {},
     "output_type": "execute_result"
    }
   ],
   "source": [
    "data=response.json()\n",
    "data\n"
   ]
  },
  {
   "cell_type": "code",
   "execution_count": 47,
   "id": "04546971",
   "metadata": {},
   "outputs": [
    {
     "name": "stdout",
     "output_type": "stream",
     "text": [
      "Emueagles Emugym GIF by EMU Athletics\n"
     ]
    }
   ],
   "source": [
    "print(data[\"data\"][\"title\"])\n",
    "    "
   ]
  }
 ],
 "metadata": {
  "kernelspec": {
   "display_name": "base",
   "language": "python",
   "name": "python3"
  },
  "language_info": {
   "codemirror_mode": {
    "name": "ipython",
    "version": 3
   },
   "file_extension": ".py",
   "mimetype": "text/x-python",
   "name": "python",
   "nbconvert_exporter": "python",
   "pygments_lexer": "ipython3",
   "version": "3.13.5"
  }
 },
 "nbformat": 4,
 "nbformat_minor": 5
}
